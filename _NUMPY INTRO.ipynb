{
 "cells": [
  {
   "cell_type": "markdown",
   "id": "aa4bad1a-0ce4-4fe8-934b-c5ccc5ccee1f",
   "metadata": {},
   "source": [
    "***NUMPY***\n",
    "\n",
    "numpy is a open source library that contains scientific calculations.\n",
    "\n",
    "why numpy over list?\n",
    "\n",
    "--it has more scientific functionalitites than a list.\n",
    "\n",
    "--it has more ai handling function\n",
    "\n",
    "--stores all data in array format which accepts only one type of data which reduces memory  and time utilization\n",
    "\n",
    "--import numpy as np\n",
    "\n",
    "To convert list into numpy array:\n",
    "  array_name=np.array(listname)\n"
   ]
  },
  {
   "cell_type": "code",
   "execution_count": 1,
   "id": "fb4c25e3-e414-4cdf-aa31-c54e9cf59b36",
   "metadata": {},
   "outputs": [
    {
     "name": "stdout",
     "output_type": "stream",
     "text": [
      "[1 2 3 4]\n"
     ]
    },
    {
     "data": {
      "text/plain": [
       "numpy.ndarray"
      ]
     },
     "execution_count": 1,
     "metadata": {},
     "output_type": "execute_result"
    }
   ],
   "source": [
    "import numpy as np\n",
    "a=[1,2,3,4]\n",
    "type(a)\n",
    "b=np.array(a)\n",
    "print(b)\n",
    "type(b)"
   ]
  },
  {
   "cell_type": "markdown",
   "id": "79f64ac8-82cb-405f-9ca8-bf9acf207ef6",
   "metadata": {},
   "source": [
    "CREATE USER DEFINED ARRAY:\n"
   ]
  },
  {
   "cell_type": "code",
   "execution_count": 2,
   "id": "d3d0a3bc-0d2e-4fe0-b5c1-7c53a34f4eb3",
   "metadata": {},
   "outputs": [
    {
     "name": "stdin",
     "output_type": "stream",
     "text": [
      "enter size 4\n",
      "enter number 4\n",
      "enter number 5\n",
      "enter number 6\n",
      "enter number 7\n"
     ]
    },
    {
     "name": "stdout",
     "output_type": "stream",
     "text": [
      "[4 5 6 7]\n"
     ]
    }
   ],
   "source": [
    "a=[]\n",
    "size=int(input(\"enter size\"))\n",
    "for i in range(size):\n",
    "    val=int(input(\"enter number\"))\n",
    "    a.append(val)\n",
    "b=np.array(a)\n",
    "print(b)"
   ]
  },
  {
   "cell_type": "markdown",
   "id": "070a450e-3527-4270-b01a-029c61cbedc9",
   "metadata": {},
   "source": [
    "**SHAPE,SIZE AND DIMENSION OF ARRAY:**\r\n",
    "\r\n",
    "shape: arrayname.shape\r\n",
    "\r\n",
    "size:arrayname.size\r\n",
    "\r\n",
    "dimension:arrayname.ndim\r\n",
    "\r\n",
    "when number of rows=number of columns it is symmetric matrix\r\n",
    "\r\n",
    "when number of rows!=number of columns it is asymmetric matrix"
   ]
  },
  {
   "cell_type": "code",
   "execution_count": 5,
   "id": "c5e4b0af-6029-432c-84a8-4c9d84ec930f",
   "metadata": {},
   "outputs": [
    {
     "name": "stdout",
     "output_type": "stream",
     "text": [
      "[1 2 3 4]\n",
      "shape= (4,)\n",
      "size= 4\n",
      "dimension= 1\n"
     ]
    }
   ],
   "source": [
    "a=np.array([1,2,3,4])\n",
    "print(a)\n",
    "print('shape=',a.shape)\n",
    "print('size=',a.size)\n",
    "print('dimension=',a.ndim)"
   ]
  },
  {
   "cell_type": "code",
   "execution_count": 7,
   "id": "abfc7fb4-a7d8-486f-a685-adb9c2607c04",
   "metadata": {},
   "outputs": [
    {
     "name": "stdout",
     "output_type": "stream",
     "text": [
      "[[ 1  2  3  4]\n",
      " [ 5  6  7  8]\n",
      " [ 9 10 11 12]]\n",
      "shape= (3, 4)\n",
      "size= 12\n",
      "dimension= 2\n"
     ]
    }
   ],
   "source": [
    "a=np.array([[1,2,3,4],[5,6,7,8],[9,10,11,12]])\n",
    "print(a)\n",
    "print('shape=',a.shape)\n",
    "print('size=',a.size)\n",
    "print('dimension=',a.ndim)"
   ]
  },
  {
   "cell_type": "markdown",
   "id": "ff841359-4c97-416f-b79c-8aca29307130",
   "metadata": {},
   "source": [
    "**PRE DEFINED FUNCTIONS IN MUMPY:**\n",
    "\n",
    "1) np.zeros(size) gives an array in which all values are zero.\n",
    "\n",
    "2) np.ones(size) gives an array with all values 1.\n",
    "\n",
    "3) np.eye(size) will create an array in which all diagonal positional elements are 1 and rest are 0.\n",
    "\n",
    "4) np.diag([values]) will customize our diagonal positional values.\n",
    "\n",
    "5) RANDOM MODULE=\n",
    "\n",
    " --randint() will create and array in a range.\n",
    "\n",
    " syntax:np.random.randint(min,max,no.of elements)\n",
    "\n",
    " --rand() will create and array in range 0 to 1.\n",
    "\n",
    " syntax:np.random.rand(size)\n",
    "\n",
    " --randn()will create an array with range -3 to 3\n",
    "\n",
    " syntax:np.random.randn(size)\n",
    "\n",
    " --seed() will fix our random number.\n",
    "\n",
    " syntax:np.random.seed(any pass value)\n",
    "        np.random.rand(size)\n",
    "\n"
   ]
  },
  {
   "cell_type": "code",
   "execution_count": 10,
   "id": "f9c54b71-c665-4d4b-875e-cc3547a2cd71",
   "metadata": {},
   "outputs": [
    {
     "name": "stdout",
     "output_type": "stream",
     "text": [
      "[0. 0. 0. 0. 0.]\n"
     ]
    }
   ],
   "source": [
    "a=np.zeros(5)\n",
    "print(a)\n"
   ]
  },
  {
   "cell_type": "code",
   "execution_count": 12,
   "id": "e7b70b57-1318-4d72-bfe3-84362e0da51a",
   "metadata": {},
   "outputs": [
    {
     "name": "stdout",
     "output_type": "stream",
     "text": [
      "[1. 1. 1. 1. 1.]\n"
     ]
    }
   ],
   "source": [
    "a=np.ones(5)\n",
    "print(a)"
   ]
  },
  {
   "cell_type": "code",
   "execution_count": 24,
   "id": "7e11ca99-d40b-41dd-a9ee-7f6f6aeeb34d",
   "metadata": {},
   "outputs": [
    {
     "name": "stdout",
     "output_type": "stream",
     "text": [
      "[1. 1. 1. 1. 1.]\n"
     ]
    }
   ],
   "source": [
    "a=np.ones(5)\n",
    "print(a)\n"
   ]
  },
  {
   "cell_type": "code",
   "execution_count": 16,
   "id": "b2f06612-2435-4a5c-bf41-e6ce74fc3cff",
   "metadata": {},
   "outputs": [
    {
     "name": "stdout",
     "output_type": "stream",
     "text": [
      "[[1. 0. 0.]\n",
      " [0. 1. 0.]\n",
      " [0. 0. 1.]]\n"
     ]
    }
   ],
   "source": [
    "a=np.eye(3)\n",
    "print(a)"
   ]
  },
  {
   "cell_type": "code",
   "execution_count": 18,
   "id": "37056cdf-9641-4c4f-9ddd-b1b0a4e2e03d",
   "metadata": {},
   "outputs": [
    {
     "name": "stdout",
     "output_type": "stream",
     "text": [
      "[[1 0 0 0]\n",
      " [0 2 0 0]\n",
      " [0 0 3 0]\n",
      " [0 0 0 4]]\n"
     ]
    }
   ],
   "source": [
    "a=np.diag([1,2,3,4])\n",
    "print(a)"
   ]
  },
  {
   "cell_type": "code",
   "execution_count": 20,
   "id": "05f02594-0a77-4112-bdbe-286b630b5938",
   "metadata": {},
   "outputs": [
    {
     "name": "stdout",
     "output_type": "stream",
     "text": [
      "[5 6 9]\n"
     ]
    }
   ],
   "source": [
    "a=np.random.randint(1,10,3)\n",
    "print(a)\n"
   ]
  },
  {
   "cell_type": "code",
   "execution_count": 22,
   "id": "d713ab0a-f917-44f1-8ef9-864e2546bd84",
   "metadata": {},
   "outputs": [
    {
     "name": "stdout",
     "output_type": "stream",
     "text": [
      "[0.14615369 0.5212124  0.42923753 0.97569678 0.52794764]\n"
     ]
    }
   ],
   "source": [
    "a=np.random.rand(5)\n",
    "print(a)"
   ]
  },
  {
   "cell_type": "code",
   "execution_count": 26,
   "id": "2f2fac08-4731-45c7-8cf0-370952ab9512",
   "metadata": {},
   "outputs": [
    {
     "name": "stdout",
     "output_type": "stream",
     "text": [
      "[ 0.38974263 -0.38249473  0.23512551  0.62226717  0.29763839]\n"
     ]
    }
   ],
   "source": [
    "a=np.random.randn(5)\n",
    "print(a)"
   ]
  },
  {
   "cell_type": "code",
   "execution_count": 28,
   "id": "184141dd-0b2c-4076-bf76-be3b532650ab",
   "metadata": {},
   "outputs": [
    {
     "name": "stdout",
     "output_type": "stream",
     "text": [
      "[6 9 6]\n"
     ]
    }
   ],
   "source": [
    "np.random.seed(1)\n",
    "a=np.random.randint(1,10,3)\n",
    "print(a)"
   ]
  },
  {
   "cell_type": "markdown",
   "id": "76b7efb3-c827-4e15-b685-93d6a7c7ddaa",
   "metadata": {},
   "source": [
    "**VIEW VS COPY**\n",
    "\n",
    "view means modification in original file\n",
    "\n",
    "copy means modification in duplicated file"
   ]
  },
  {
   "cell_type": "code",
   "execution_count": 31,
   "id": "cc0fac08-7660-423b-a83d-71ee1d47e6a5",
   "metadata": {},
   "outputs": [
    {
     "data": {
      "text/plain": [
       "array([1, 0, 0, 4])"
      ]
     },
     "execution_count": 31,
     "metadata": {},
     "output_type": "execute_result"
    }
   ],
   "source": [
    "a=np.array([1,2,3,4])\n",
    "b=a[1:3]\n",
    "b[:]=0\n",
    "b\n",
    "a #changes done in original file too"
   ]
  },
  {
   "cell_type": "code",
   "execution_count": 33,
   "id": "2c19c137-6fb7-4e0b-9eaa-3e10c563fff2",
   "metadata": {},
   "outputs": [
    {
     "name": "stdout",
     "output_type": "stream",
     "text": [
      "[0 0]\n",
      "[1 2 3 4]\n"
     ]
    }
   ],
   "source": [
    "a=np.array([1,2,3,4])\n",
    "b=a[1:3].copy()\n",
    "b[:]=0\n",
    "print(b)\n",
    "print(a) #changes not in done in original file"
   ]
  },
  {
   "cell_type": "markdown",
   "id": "5f0f2318-71d2-4f75-af92-00fd3e813653",
   "metadata": {},
   "source": [
    "**LINE SPACE**\n",
    "\n",
    "returns same gap numbers from minimum number to maximum number.\n",
    "\n",
    "syntax:(min,max,number of elements)"
   ]
  },
  {
   "cell_type": "code",
   "execution_count": 36,
   "id": "2bbfe32f-b93b-4834-9ecc-60e1feea6671",
   "metadata": {},
   "outputs": [
    {
     "name": "stdout",
     "output_type": "stream",
     "text": [
      "[0.  0.2 0.4 0.6 0.8 1. ]\n"
     ]
    }
   ],
   "source": [
    "a=np.linspace(0,1,6)\n",
    "print(a)"
   ]
  },
  {
   "cell_type": "markdown",
   "id": "1a372196-212f-459b-aa57-6a92ba8755a5",
   "metadata": {},
   "source": [
    "**RESHAPING THE ARRAY**\n",
    "\n",
    "syntax:arrayname.reshape()\n",
    "\n",
    "to reshape n(rows)x n(column)=n(total elements)"
   ]
  },
  {
   "cell_type": "code",
   "execution_count": 49,
   "id": "3290f420-e7fb-459c-8eee-0e42f183f843",
   "metadata": {},
   "outputs": [
    {
     "name": "stdout",
     "output_type": "stream",
     "text": [
      "[ 6 19 21 12 29 11 29 15 19  5 24 24]\n"
     ]
    },
    {
     "data": {
      "text/plain": [
       "array([[ 6, 19, 21, 12],\n",
       "       [29, 11, 29, 15],\n",
       "       [19,  5, 24, 24]])"
      ]
     },
     "execution_count": 49,
     "metadata": {},
     "output_type": "execute_result"
    }
   ],
   "source": [
    "a=np.random.randint(1,30,12)\n",
    "print(a)\n",
    "a.reshape(3,4)"
   ]
  },
  {
   "cell_type": "code",
   "execution_count": 51,
   "id": "8bbb4737-647f-4f3b-a743-50b5ae5f1b28",
   "metadata": {},
   "outputs": [
    {
     "data": {
      "text/plain": [
       "array([[ 6, 19, 21, 12, 29, 11],\n",
       "       [29, 15, 19,  5, 24, 24]])"
      ]
     },
     "execution_count": 51,
     "metadata": {},
     "output_type": "execute_result"
    }
   ],
   "source": [
    "a.reshape(2,6)"
   ]
  },
  {
   "cell_type": "code",
   "execution_count": 53,
   "id": "dd6def72-0a38-4e7a-8bfa-c9f147ed7272",
   "metadata": {},
   "outputs": [
    {
     "name": "stdout",
     "output_type": "stream",
     "text": [
      "[[1 2]\n",
      " [3 4]]\n"
     ]
    }
   ],
   "source": [
    "a=np.array([1,2,3,4]).reshape(2,2)\n",
    "print(a)"
   ]
  },
  {
   "cell_type": "markdown",
   "id": "fa62704d-2f27-4ae4-9941-b0af94ad2c04",
   "metadata": {},
   "source": [
    "**ARITHMATIC OPERATIONS:**"
   ]
  },
  {
   "cell_type": "code",
   "execution_count": 56,
   "id": "50074425-d4b9-4e38-b7b9-22ab22d74822",
   "metadata": {},
   "outputs": [
    {
     "name": "stdout",
     "output_type": "stream",
     "text": [
      "[[ 6  8]\n",
      " [10 12]]\n",
      "[[-4 -4]\n",
      " [-4 -4]]\n",
      "[[ 5 12]\n",
      " [21 32]]\n"
     ]
    }
   ],
   "source": [
    "a=np.array([1,2,3,4]).reshape(2,2)\n",
    "b=np.array([5,6,7,8]).reshape(2,2)\n",
    "print(a+b)\n",
    "print(a-b)\n",
    "print(a*b)"
   ]
  },
  {
   "cell_type": "markdown",
   "id": "abd7c6a9-3e14-4a6b-a92d-554df3fb78d6",
   "metadata": {},
   "source": [
    "**UNIQUE ELEMENT**\n",
    "\n",
    "returns the unique element in the array"
   ]
  },
  {
   "cell_type": "code",
   "execution_count": 59,
   "id": "3ad96c60-a4f3-4e96-b7d9-0e7ef801097b",
   "metadata": {},
   "outputs": [
    {
     "name": "stdout",
     "output_type": "stream",
     "text": [
      "[1 2 3 4]\n"
     ]
    }
   ],
   "source": [
    "a=np.array([1,2,3,4,1,2,3,4])\n",
    "print(np.unique(a))"
   ]
  },
  {
   "cell_type": "markdown",
   "id": "5c2cfe04-049a-4cb4-bf57-13f217bf561e",
   "metadata": {},
   "source": [
    "**STACKING**\n",
    "\n",
    "a) .hstack()=combines twomatrices horizontally\n",
    "\n",
    "b) .vstack()=combines two matrices vertically\n",
    "\n",
    "dimensions should be equal of arrays"
   ]
  },
  {
   "cell_type": "code",
   "execution_count": 62,
   "id": "08a01b04-e87f-4777-af27-68fe3994c2a7",
   "metadata": {},
   "outputs": [
    {
     "name": "stdout",
     "output_type": "stream",
     "text": [
      "[ 1  2  3  4  5  6  7  8  9 10 11 12]\n",
      "[[ 1  2  3  4]\n",
      " [ 5  6  7  8]\n",
      " [ 9 10 11 12]]\n"
     ]
    }
   ],
   "source": [
    "a=np.array([1,2,3,4])\n",
    "b=np.array([5,6,7,8])\n",
    "c=np.array([9,10,11,12])\n",
    "print(np.hstack((a,b,c)))\n",
    "print(np.vstack((a,b,c)))"
   ]
  },
  {
   "cell_type": "code",
   "execution_count": null,
   "id": "623afe57-8814-41c2-b521-038b0a9ebab1",
   "metadata": {},
   "outputs": [],
   "source": []
  }
 ],
 "metadata": {
  "kernelspec": {
   "display_name": "Python 3 (ipykernel)",
   "language": "python",
   "name": "python3"
  },
  "language_info": {
   "codemirror_mode": {
    "name": "ipython",
    "version": 3
   },
   "file_extension": ".py",
   "mimetype": "text/x-python",
   "name": "python",
   "nbconvert_exporter": "python",
   "pygments_lexer": "ipython3",
   "version": "3.12.4"
  }
 },
 "nbformat": 4,
 "nbformat_minor": 5
}
